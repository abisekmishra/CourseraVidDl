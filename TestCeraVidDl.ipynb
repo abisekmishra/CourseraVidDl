{
 "cells": [
  {
   "cell_type": "code",
   "execution_count": 1,
   "metadata": {},
   "outputs": [],
   "source": [
    "from selenium import webdriver\n",
    "from bs4 import BeautifulSoup\n",
    "import os\n",
    "import requests"
   ]
  },
  {
   "cell_type": "code",
   "execution_count": 2,
   "metadata": {},
   "outputs": [],
   "source": [
    "cera_url = \"https://www.coursera.org\"\n",
    "course_hrefs = {}\n",
    "lecture_hrefs = {}\n",
    "week_hrefs = {}\n",
    "weeks = 0"
   ]
  },
  {
   "cell_type": "code",
   "execution_count": 4,
   "metadata": {},
   "outputs": [],
   "source": [
    "#Open web browser\n",
    "driver = webdriver.Chrome('C:\\\\Users\\\\Administrator\\\\Downloads\\\\chromedriver_win32\\\\chromedriver.exe')\n",
    "driver.maximize_window()\n",
    "driver.implicitly_wait(5)\n",
    "driver.get(cera_url)"
   ]
  },
  {
   "cell_type": "code",
   "execution_count": 6,
   "metadata": {},
   "outputs": [],
   "source": [
    "#LOG IN\n",
    "driver.find_element_by_link_text(\"LOG IN\").click()"
   ]
  },
  {
   "cell_type": "code",
   "execution_count": 7,
   "metadata": {},
   "outputs": [],
   "source": [
    "#Find the input fields and the submit button\n",
    "uname = driver.find_element_by_xpath(\"//input[@name='email']\")\n",
    "passwd = driver.find_element_by_xpath(\"//input[@name='password']\")\n",
    "submit = driver.find_element_by_xpath(\"//form//button\")"
   ]
  },
  {
   "cell_type": "code",
   "execution_count": 8,
   "metadata": {},
   "outputs": [],
   "source": [
    "#form = driver.find_element_by_xpath(\"//form[@name='login']\")\n",
    "#form.get_attribute('action')"
   ]
  },
  {
   "cell_type": "code",
   "execution_count": 9,
   "metadata": {},
   "outputs": [],
   "source": [
    "#Send the keys to the input fields\n",
    "uname.send_keys(\"avisektalks@gmail.com\")\n",
    "passwd.send_keys(\"Avisek@4326\")"
   ]
  },
  {
   "cell_type": "code",
   "execution_count": 10,
   "metadata": {},
   "outputs": [],
   "source": [
    "submit.click()"
   ]
  },
  {
   "cell_type": "code",
   "execution_count": 11,
   "metadata": {},
   "outputs": [
    {
     "data": {
      "text/plain": [
       "<selenium.webdriver.remote.webelement.WebElement (session=\"419f9e0aa4027cd21ff7a4ca68558e81\", element=\"0.9745537266762951-1\")>"
      ]
     },
     "execution_count": 11,
     "metadata": {},
     "output_type": "execute_result"
    }
   ],
   "source": [
    "driver.find_element_by_xpath(\"//button[@class='nostyle dropdown']\")"
   ]
  },
  {
   "cell_type": "code",
   "execution_count": 12,
   "metadata": {},
   "outputs": [],
   "source": [
    "driver.find_element_by_xpath(\"//button[@class='nostyle dropdown']\").click()"
   ]
  },
  {
   "cell_type": "code",
   "execution_count": 13,
   "metadata": {},
   "outputs": [],
   "source": [
    "driver.execute_script(\"window.scrollTo(0,0)\")"
   ]
  },
  {
   "cell_type": "code",
   "execution_count": 14,
   "metadata": {},
   "outputs": [],
   "source": [
    "soup_lastActive = BeautifulSoup(driver.page_source,'html.parser')"
   ]
  },
  {
   "cell_type": "code",
   "execution_count": 15,
   "metadata": {},
   "outputs": [],
   "source": [
    "section_list = soup_lastActive.find_all('section',attrs={\"class\":\"rc-CourseCard with-padding\".split()})\n",
    "modified_section_list = soup_lastActive.find_all('section',attrs={\"class\":\"rc-CourseCard with-padding card-rich-interaction\".split()})\n",
    "section_list = list(set(section_list+modified_section_list))"
   ]
  },
  {
   "cell_type": "code",
   "execution_count": 16,
   "metadata": {},
   "outputs": [
    {
     "name": "stdout",
     "output_type": "stream",
     "text": [
      "Neural Networks and Deep Learning\n",
      "Introduction to Data Science in Python\n",
      "Machine Learning\n",
      "Neural Networks and Deep Learning\n",
      "Neural Networks for Machine Learning\n",
      "Improving Deep Neural Networks: Hyperparameter tuning, Regularization and Optimization\n",
      "Sequence Models\n",
      "Structuring Machine Learning Projects\n",
      "Convolutional Neural Networks\n"
     ]
    }
   ],
   "source": [
    "for section in section_list:\n",
    "    print(section.find('h4',attrs={\"class\":\"headline-1-text\"}).text)"
   ]
  },
  {
   "cell_type": "code",
   "execution_count": 17,
   "metadata": {},
   "outputs": [
    {
     "name": "stdout",
     "output_type": "stream",
     "text": [
      "Neural Networks and Deep Learning\n",
      "None\n",
      "Introduction to Data Science in Python\n",
      "None\n",
      "Machine Learning\n",
      "None\n",
      "Neural Networks and Deep Learning\n",
      "Go to Course\n",
      "Neural Networks for Machine Learning\n",
      "None\n",
      "Improving Deep Neural Networks: Hyperparameter tuning, Regularization and Optimization\n",
      "Go to Course\n",
      "Sequence Models\n",
      "Enroll\n",
      "Structuring Machine Learning Projects\n",
      "Enroll\n",
      "Convolutional Neural Networks\n",
      "Enroll\n"
     ]
    }
   ],
   "source": [
    "for section in section_list:\n",
    "    print(section.find('h4').text)\n",
    "    check_enrollment = section.find('div',attrs={\"class\":\"rc-CourseEnrollButton\"})\n",
    "    #print(check_enrollment)\n",
    "    print(None if check_enrollment == None else check_enrollment.find('span').text )"
   ]
  },
  {
   "cell_type": "code",
   "execution_count": 19,
   "metadata": {},
   "outputs": [
    {
     "name": "stdout",
     "output_type": "stream",
     "text": [
      "None\n",
      "None\n",
      "None\n",
      "Go to Course\n",
      "None\n",
      "Go to Course\n",
      "Enroll\n",
      "Enroll\n",
      "Enroll\n"
     ]
    }
   ],
   "source": [
    "for section in section_list:\n",
    "        check_enrollment = section.find('div',attrs={\"class\":\"rc-CourseEnrollButton\"})\n",
    "        enroll_text = check_enrollment.find('span').text if check_enrollment!=None else 'None'\n",
    "        print(enroll_text)\n",
    "        if enroll_text != 'Enroll':\n",
    "            name = section.find('h4', attrs={\"class\": \"headline-1-text\"}).text\n",
    "            href_link = section.find(\"a\", href=True)['href']\n",
    "            course_hrefs[name] = href_link           "
   ]
  },
  {
   "cell_type": "code",
   "execution_count": 20,
   "metadata": {},
   "outputs": [
    {
     "data": {
      "text/plain": [
       "{'Machine Learning': '/learn/machine-learning/home/welcome',\n",
       " 'Neural Networks for Machine Learning': '/learn/neural-networks/home/welcome',\n",
       " 'Introduction to Data Science in Python': '/learn/python-data-analysis/home/welcome',\n",
       " 'Neural Networks and Deep Learning': '/learn/neural-networks-deep-learning/home/welcome',\n",
       " 'Improving Deep Neural Networks: Hyperparameter tuning, Regularization and Optimization': '/learn/deep-neural-network/home/welcome'}"
      ]
     },
     "execution_count": 20,
     "metadata": {},
     "output_type": "execute_result"
    }
   ],
   "source": [
    "course_hrefs"
   ]
  },
  {
   "cell_type": "code",
   "execution_count": 21,
   "metadata": {},
   "outputs": [
    {
     "data": {
      "text/plain": [
       "'https://www.coursera.org/learn/machine-learning/home/welcome'"
      ]
     },
     "execution_count": 21,
     "metadata": {},
     "output_type": "execute_result"
    }
   ],
   "source": [
    "course_url = cera_url+course_hrefs['Machine Learning']\n",
    "course_url"
   ]
  },
  {
   "cell_type": "code",
   "execution_count": 22,
   "metadata": {},
   "outputs": [],
   "source": [
    "driver.get(course_url)"
   ]
  },
  {
   "cell_type": "code",
   "execution_count": 23,
   "metadata": {},
   "outputs": [],
   "source": [
    "soup = BeautifulSoup(driver.page_source,'html.parser')\n",
    "div_weeks = soup.find('div',attrs={'class':'rc-NavigationDrawer'})\n",
    "weeks = div_weeks.find_all('a',attrs={'class' : \"rc-NavigationDrawerLink headline-1-text horizontal-box \\\n",
    "                                                   rc-WeekNavigationItem\".split()})"
   ]
  },
  {
   "cell_type": "code",
   "execution_count": 24,
   "metadata": {},
   "outputs": [
    {
     "data": {
      "text/plain": [
       "11"
      ]
     },
     "execution_count": 24,
     "metadata": {},
     "output_type": "execute_result"
    }
   ],
   "source": [
    "len(weeks)"
   ]
  },
  {
   "cell_type": "code",
   "execution_count": 31,
   "metadata": {},
   "outputs": [],
   "source": [
    "curr_url = driver.current_url\n",
    "driver.find_element_by_link_text(\"Week \"+str(1)).click()"
   ]
  },
  {
   "cell_type": "code",
   "execution_count": 32,
   "metadata": {},
   "outputs": [],
   "source": [
    "while driver.current_url == curr_url:pass\n",
    "soup  = BeautifulSoup(driver.page_source,'html.parser')"
   ]
  },
  {
   "cell_type": "code",
   "execution_count": 33,
   "metadata": {},
   "outputs": [],
   "source": [
    "lesson_divs = soup.find_all('div',{\"class\":\"rc-NamedItemList\"})"
   ]
  },
  {
   "cell_type": "code",
   "execution_count": 34,
   "metadata": {},
   "outputs": [
    {
     "data": {
      "text/plain": [
       "8"
      ]
     },
     "execution_count": 34,
     "metadata": {},
     "output_type": "execute_result"
    }
   ],
   "source": [
    "len(lesson_divs)"
   ]
  },
  {
   "cell_type": "code",
   "execution_count": 35,
   "metadata": {
    "collapsed": true
   },
   "outputs": [],
   "source": [
    "lessons = [li for li in [div.find_all('li') for div in lesson_divs if div.find('h4').text != 'Review']]"
   ]
  },
  {
   "cell_type": "code",
   "execution_count": 35,
   "metadata": {},
   "outputs": [
    {
     "data": {
      "text/plain": [
       "33"
      ]
     },
     "execution_count": 35,
     "metadata": {},
     "output_type": "execute_result"
    }
   ],
   "source": [
    "lessons = []\n",
    "for div in lesson_divs:\n",
    "    if div.find('h4').text != \"Review\":\n",
    "        for li in div.find_all('li'):\n",
    "            lessons.append(li)\n",
    "len(lessons)"
   ]
  },
  {
   "cell_type": "code",
   "execution_count": 53,
   "metadata": {},
   "outputs": [],
   "source": [
    "lecture_hrefs = {}\n",
    "c=0\n",
    "for lesson in lessons:\n",
    "    lesson_div = lesson.find('div',attrs={'class':'rc-WeekItemName headline-1-text'.split()})\n",
    "    #lesson_div.find('span').replace_with('')\n",
    "    lecture_link = lesson.find('a')['href']\n",
    "    if '/lecture/' in lecture_link:\n",
    "        c+=1\n",
    "        lecture_name = lesson_div.text\n",
    "        lecture_hrefs[(str(c)+\". \"+lecture_name)] = cera_url + lecture_link"
   ]
  },
  {
   "cell_type": "code",
   "execution_count": 54,
   "metadata": {
    "scrolled": true
   },
   "outputs": [
    {
     "data": {
      "text/plain": [
       "{'1. Welcome to Machine Learning!': 'https://www.coursera.org/learn/machine-learning/lecture/zcAuT/welcome-to-machine-learning',\n",
       " '2. Welcome': 'https://www.coursera.org/learn/machine-learning/lecture/RKFpn/welcome',\n",
       " '3. What is Machine Learning?': 'https://www.coursera.org/learn/machine-learning/lecture/Ujm7v/what-is-machine-learning',\n",
       " '4. Supervised Learning': 'https://www.coursera.org/learn/machine-learning/lecture/1VkCb/supervised-learning',\n",
       " '5. Unsupervised Learning': 'https://www.coursera.org/learn/machine-learning/lecture/olRZo/unsupervised-learning',\n",
       " '6. Model Representation': 'https://www.coursera.org/learn/machine-learning/lecture/db3jS/model-representation',\n",
       " '7. Cost Function': 'https://www.coursera.org/learn/machine-learning/lecture/rkTp3/cost-function',\n",
       " '8. Cost Function - Intuition I': 'https://www.coursera.org/learn/machine-learning/lecture/N09c6/cost-function-intuition-i',\n",
       " '9. Cost Function - Intuition II': 'https://www.coursera.org/learn/machine-learning/lecture/nwpe2/cost-function-intuition-ii',\n",
       " '10. Gradient Descent': 'https://www.coursera.org/learn/machine-learning/lecture/8SpIM/gradient-descent',\n",
       " '11. Gradient Descent Intuition': 'https://www.coursera.org/learn/machine-learning/lecture/GFFPB/gradient-descent-intuition',\n",
       " '12. Gradient Descent For Linear Regression': 'https://www.coursera.org/learn/machine-learning/lecture/kCvQc/gradient-descent-for-linear-regression',\n",
       " '13. Matrices and Vectors': 'https://www.coursera.org/learn/machine-learning/lecture/38jIT/matrices-and-vectors',\n",
       " '14. Addition and Scalar Multiplication': 'https://www.coursera.org/learn/machine-learning/lecture/R4hiJ/addition-and-scalar-multiplication',\n",
       " '15. Matrix Vector Multiplication': 'https://www.coursera.org/learn/machine-learning/lecture/aQDta/matrix-vector-multiplication',\n",
       " '16. Matrix Matrix Multiplication': 'https://www.coursera.org/learn/machine-learning/lecture/dpF1j/matrix-matrix-multiplication',\n",
       " '17. Matrix Multiplication Properties': 'https://www.coursera.org/learn/machine-learning/lecture/W1LNU/matrix-multiplication-properties',\n",
       " '18. Inverse and Transpose': 'https://www.coursera.org/learn/machine-learning/lecture/FuSWY/inverse-and-transpose'}"
      ]
     },
     "execution_count": 54,
     "metadata": {},
     "output_type": "execute_result"
    }
   ],
   "source": [
    "lecture_hrefs"
   ]
  },
  {
   "cell_type": "code",
   "execution_count": 55,
   "metadata": {},
   "outputs": [],
   "source": [
    "driver.get(lecture_hrefs[list(lecture_hrefs.keys())[0]])"
   ]
  },
  {
   "cell_type": "code",
   "execution_count": 56,
   "metadata": {},
   "outputs": [],
   "source": [
    "soup = BeautifulSoup(driver.page_source,'html.parser')"
   ]
  },
  {
   "cell_type": "code",
   "execution_count": 57,
   "metadata": {},
   "outputs": [],
   "source": [
    "vid_link = soup.find('video').find('source')['src']"
   ]
  },
  {
   "cell_type": "code",
   "execution_count": 58,
   "metadata": {},
   "outputs": [
    {
     "data": {
      "text/plain": [
       "'https://d3c33hcgiwev3.cloudfront.net/qHTMkA4fEeW2rSIAC2yC6g.processed/full/540p/index.mp4?Expires=1536192000&Signature=NKXmfZA8eoEOEvcBV~m5pNpxAyNgBWHuCLbSLV~7creMI1k~jHJl9VIyRrjPqimC1qdZxd-3LNrfdzgX84xyt-MhZsUK3hLFUfxuO8b2sBCZ2duJTT8c3g5zfz-3AInyRMrkp~Y-IQYrGTsqTRRCid5CQsTXtXz3yo7HTd-wiA8_&Key-Pair-Id=APKAJLTNE6QMUY6HBC5A'"
      ]
     },
     "execution_count": 58,
     "metadata": {},
     "output_type": "execute_result"
    }
   ],
   "source": [
    "vid_link"
   ]
  },
  {
   "cell_type": "code",
   "execution_count": 56,
   "metadata": {
    "collapsed": true
   },
   "outputs": [],
   "source": [
    "#driver.get(vid_link)"
   ]
  },
  {
   "cell_type": "code",
   "execution_count": 59,
   "metadata": {},
   "outputs": [],
   "source": [
    "_params = {'Expires':'1536105600',\n",
    "          'Signature':'MKVs68NBUlu5ODk1GOaf9ZbWTLXItUV27xOBwEGz~ZMkFA6tsoN8rMbqoyraFzxSftZ5Pi2KglrwCtrXMEJzTJsRJHkOT9PPPlbqw95woI~fe2hAZCfLKhbHSfUYpF61hYtNSD6JM8L596DkvaoJ8gLHkUW0VcdQ6Nkz53kbuBM_',\n",
    "          'Key-Pair-Id':'APKAJLTNE6QMUY6HBC5A'}"
   ]
  },
  {
   "cell_type": "code",
   "execution_count": 64,
   "metadata": {},
   "outputs": [
    {
     "name": "stdout",
     "output_type": "stream",
     "text": [
      "https://d3c33hcgiwev3.cloudfront.net/qHTMkA4fEeW2rSIAC2yC6g.processed/full/540p/index.mp4?Expires=1536192000&Signature=NKXmfZA8eoEOEvcBV~m5pNpxAyNgBWHuCLbSLV~7creMI1k~jHJl9VIyRrjPqimC1qdZxd-3LNrfdzgX84xyt-MhZsUK3hLFUfxuO8b2sBCZ2duJTT8c3g5zfz-3AInyRMrkp~Y-IQYrGTsqTRRCid5CQsTXtXz3yo7HTd-wiA8_&Key-Pair-Id=APKAJLTNE6QMUY6HBC5A\n"
     ]
    }
   ],
   "source": [
    "with open('index.mp4','wb') as f: \n",
    "    vid = requests.get(vid_link,stream=True)\n",
    "    print(vid.url)\n",
    "    f.write(vid.content)"
   ]
  },
  {
   "cell_type": "code",
   "execution_count": 61,
   "metadata": {},
   "outputs": [
    {
     "data": {
      "text/plain": [
       "4819806"
      ]
     },
     "execution_count": 61,
     "metadata": {},
     "output_type": "execute_result"
    }
   ],
   "source": [
    "f = open('index.mp4','wb')\n",
    "f.write(vid.content)"
   ]
  },
  {
   "cell_type": "code",
   "execution_count": 62,
   "metadata": {},
   "outputs": [],
   "source": [
    "f.close()"
   ]
  },
  {
   "cell_type": "code",
   "execution_count": 65,
   "metadata": {},
   "outputs": [],
   "source": [
    "driver.close()"
   ]
  },
  {
   "cell_type": "code",
   "execution_count": null,
   "metadata": {},
   "outputs": [],
   "source": []
  }
 ],
 "metadata": {
  "kernelspec": {
   "display_name": "Python 3",
   "language": "python",
   "name": "python3"
  },
  "language_info": {
   "codemirror_mode": {
    "name": "ipython",
    "version": 3
   },
   "file_extension": ".py",
   "mimetype": "text/x-python",
   "name": "python",
   "nbconvert_exporter": "python",
   "pygments_lexer": "ipython3",
   "version": "3.6.5"
  }
 },
 "nbformat": 4,
 "nbformat_minor": 2
}

{
 "cells": [
  {
   "cell_type": "code",
   "execution_count": 1,
   "metadata": {
    "collapsed": true
   },
   "outputs": [],
   "source": [
    "from selenium import webdriver\n",
    "from bs4 import BeautifulSoup\n",
    "import os\n",
    "import requests"
   ]
  },
  {
   "cell_type": "code",
   "execution_count": 2,
   "metadata": {
    "collapsed": true
   },
   "outputs": [],
   "source": [
    "cera_url = \"https://www.coursera.org\"\n",
    "course_hrefs = {}\n",
    "lecture_hrefs = {}\n",
    "week_hrefs = {}\n",
    "weeks = 0"
   ]
  },
  {
   "cell_type": "code",
   "execution_count": 3,
   "metadata": {
    "collapsed": true
   },
   "outputs": [],
   "source": [
    "#Open web browser\n",
    "driver = webdriver.Chrome()\n",
    "driver.maximize_window()\n",
    "driver.implicitly_wait(5)\n",
    "driver.get(cera_url)"
   ]
  },
  {
   "cell_type": "code",
   "execution_count": 4,
   "metadata": {
    "collapsed": true
   },
   "outputs": [],
   "source": [
    "#LOG IN\n",
    "driver.find_element_by_link_text(\"LOG IN\").click()"
   ]
  },
  {
   "cell_type": "code",
   "execution_count": 5,
   "metadata": {
    "collapsed": true
   },
   "outputs": [],
   "source": [
    "#Find the input fields and the submit button\n",
    "uname = driver.find_element_by_xpath(\"//input[@name='email']\")\n",
    "passwd = driver.find_element_by_xpath(\"//input[@name='password']\")\n",
    "submit = driver.find_element_by_xpath(\"//form//button\")"
   ]
  },
  {
   "cell_type": "code",
   "execution_count": 6,
   "metadata": {},
   "outputs": [],
   "source": [
    "#form = driver.find_element_by_xpath(\"//form[@name='login']\")\n",
    "#form.get_attribute('action')"
   ]
  },
  {
   "cell_type": "code",
   "execution_count": 7,
   "metadata": {
    "collapsed": true
   },
   "outputs": [],
   "source": [
    "#Send the keys to the input fields\n",
    "uname.send_keys(\"avisektalks@gmail.com\")\n",
    "passwd.send_keys(\"Avisek@4326\")"
   ]
  },
  {
   "cell_type": "code",
   "execution_count": 8,
   "metadata": {
    "collapsed": true
   },
   "outputs": [],
   "source": [
    "submit.click()"
   ]
  },
  {
   "cell_type": "code",
   "execution_count": 9,
   "metadata": {},
   "outputs": [
    {
     "data": {
      "text/plain": [
       "<selenium.webdriver.remote.webelement.WebElement (session=\"b01efd376570d356958d452fc3d652e1\", element=\"0.862186367579961-1\")>"
      ]
     },
     "execution_count": 9,
     "metadata": {},
     "output_type": "execute_result"
    }
   ],
   "source": [
    "driver.find_element_by_xpath(\"//button[@class='nostyle dropdown']\")"
   ]
  },
  {
   "cell_type": "code",
   "execution_count": 10,
   "metadata": {
    "collapsed": true
   },
   "outputs": [],
   "source": [
    "driver.find_element_by_xpath(\"//button[@class='nostyle dropdown']\").click()"
   ]
  },
  {
   "cell_type": "code",
   "execution_count": 11,
   "metadata": {
    "collapsed": true
   },
   "outputs": [],
   "source": [
    "driver.execute_script(\"window.scrollTo(0,0)\")"
   ]
  },
  {
   "cell_type": "code",
   "execution_count": 12,
   "metadata": {
    "collapsed": true
   },
   "outputs": [],
   "source": [
    "soup_lastActive = BeautifulSoup(driver.page_source,'html.parser')"
   ]
  },
  {
   "cell_type": "code",
   "execution_count": 13,
   "metadata": {
    "collapsed": true
   },
   "outputs": [],
   "source": [
    "#section_list = soup_lastActive.find_all('section',attrs={\"class\":\"rc-CourseCard with-padding\".split()})\n",
    "modified_section_list = soup_lastActive.find_all('section',attrs={\"class\":\"rc-CourseCard with-padding card-rich-interaction\".split()})"
   ]
  },
  {
   "cell_type": "code",
   "execution_count": 14,
   "metadata": {},
   "outputs": [
    {
     "name": "stdout",
     "output_type": "stream",
     "text": [
      "Machine Learning\n",
      "Neural Networks for Machine Learning\n",
      "Introduction to Data Science in Python\n",
      "Neural Networks and Deep Learning\n",
      "Neural Networks and Deep Learning\n",
      "Improving Deep Neural Networks: Hyperparameter tuning, Regularization and Optimization\n",
      "Structuring Machine Learning Projects\n",
      "Convolutional Neural Networks\n",
      "Sequence Models\n"
     ]
    }
   ],
   "source": [
    "for section in modified_section_list:\n",
    "    print(section.find('h4',attrs={\"class\":\"headline-1-text\"}).text)"
   ]
  },
  {
   "cell_type": "code",
   "execution_count": 15,
   "metadata": {},
   "outputs": [
    {
     "name": "stdout",
     "output_type": "stream",
     "text": [
      "Machine Learning\n",
      "None\n",
      "Neural Networks for Machine Learning\n",
      "None\n",
      "Introduction to Data Science in Python\n",
      "None\n",
      "Neural Networks and Deep Learning\n",
      "Go to Course\n",
      "Neural Networks and Deep Learning\n",
      "None\n",
      "Improving Deep Neural Networks: Hyperparameter tuning, Regularization and Optimization\n",
      "Go to Course\n",
      "Structuring Machine Learning Projects\n",
      "Enroll\n",
      "Convolutional Neural Networks\n",
      "Enroll\n",
      "Sequence Models\n",
      "Enroll\n"
     ]
    }
   ],
   "source": [
    "for section in modified_section_list:\n",
    "    print(section.find('h4').text)\n",
    "    check_enrollment = section.find('div',attrs={\"class\":\"rc-CourseEnrollButton\"})\n",
    "    #print(check_enrollment)\n",
    "    print(None if check_enrollment == None else check_enrollment.find('span').text )"
   ]
  },
  {
   "cell_type": "code",
   "execution_count": 16,
   "metadata": {},
   "outputs": [
    {
     "name": "stdout",
     "output_type": "stream",
     "text": [
      "None\n",
      "None\n",
      "None\n",
      "Go to Course\n",
      "None\n",
      "Go to Course\n",
      "Enroll\n",
      "Enroll\n",
      "Enroll\n"
     ]
    }
   ],
   "source": [
    "for section in modified_section_list:\n",
    "        check_enrollment = section.find('div',attrs={\"class\":\"rc-CourseEnrollButton\"})\n",
    "        enroll_text = check_enrollment.find('span').text if check_enrollment!=None else 'None'\n",
    "        print(enroll_text)\n",
    "        if enroll_text != 'Enroll':\n",
    "            name = section.find('h4', attrs={\"class\": \"headline-1-text\"}).text\n",
    "            href_link = section.find(\"a\", href=True)['href']\n",
    "            course_hrefs[name] = href_link           "
   ]
  },
  {
   "cell_type": "code",
   "execution_count": 17,
   "metadata": {},
   "outputs": [
    {
     "data": {
      "text/plain": [
       "{'Improving Deep Neural Networks: Hyperparameter tuning, Regularization and Optimization': '/learn/deep-neural-network/home/welcome',\n",
       " 'Introduction to Data Science in Python': '/learn/python-data-analysis/home/welcome',\n",
       " 'Machine Learning': '/learn/machine-learning/home/welcome',\n",
       " 'Neural Networks and Deep Learning': '/learn/neural-networks-deep-learning/home/welcome',\n",
       " 'Neural Networks for Machine Learning': '/learn/neural-networks/home/welcome'}"
      ]
     },
     "execution_count": 17,
     "metadata": {},
     "output_type": "execute_result"
    }
   ],
   "source": [
    "course_hrefs"
   ]
  },
  {
   "cell_type": "code",
   "execution_count": 18,
   "metadata": {},
   "outputs": [
    {
     "data": {
      "text/plain": [
       "'https://www.coursera.org/learn/machine-learning/home/welcome'"
      ]
     },
     "execution_count": 18,
     "metadata": {},
     "output_type": "execute_result"
    }
   ],
   "source": [
    "course_url = cera_url+course_hrefs['Machine Learning']\n",
    "course_url"
   ]
  },
  {
   "cell_type": "code",
   "execution_count": 19,
   "metadata": {
    "collapsed": true
   },
   "outputs": [],
   "source": [
    "driver.get(course_url)"
   ]
  },
  {
   "cell_type": "code",
   "execution_count": 20,
   "metadata": {
    "collapsed": true
   },
   "outputs": [],
   "source": [
    "soup = BeautifulSoup(driver.page_source,'html.parser')\n",
    "div_weeks = soup.find('div',attrs={'class':'rc-NavigationDrawer'})\n",
    "weeks = div_weeks.find_all('a',attrs={'class' : \"rc-NavigationDrawerLink headline-1-text horizontal-box \\\n",
    "                                                   rc-WeekNavigationItem\".split()})"
   ]
  },
  {
   "cell_type": "code",
   "execution_count": 21,
   "metadata": {},
   "outputs": [
    {
     "data": {
      "text/plain": [
       "11"
      ]
     },
     "execution_count": 21,
     "metadata": {},
     "output_type": "execute_result"
    }
   ],
   "source": [
    "len(weeks)"
   ]
  },
  {
   "cell_type": "code",
   "execution_count": 22,
   "metadata": {
    "collapsed": true
   },
   "outputs": [],
   "source": [
    "driver.find_element_by_link_text(\"Week \"+str(1)).click()"
   ]
  },
  {
   "cell_type": "code",
   "execution_count": 26,
   "metadata": {
    "collapsed": true
   },
   "outputs": [],
   "source": [
    "soup  = BeautifulSoup(driver.page_source,'html.parser')"
   ]
  },
  {
   "cell_type": "code",
   "execution_count": 27,
   "metadata": {
    "collapsed": true
   },
   "outputs": [],
   "source": [
    "lesson_divs = soup.find_all('div',{\"class\":\"rc-NamedItemList\"})"
   ]
  },
  {
   "cell_type": "code",
   "execution_count": 28,
   "metadata": {},
   "outputs": [
    {
     "data": {
      "text/plain": [
       "8"
      ]
     },
     "execution_count": 28,
     "metadata": {},
     "output_type": "execute_result"
    }
   ],
   "source": [
    "len(lesson_divs)"
   ]
  },
  {
   "cell_type": "code",
   "execution_count": 29,
   "metadata": {
    "collapsed": true
   },
   "outputs": [],
   "source": [
    "lessons = [li for li in [div.find_all('li') for div in lesson_divs if div.find('h4').text != 'Review']]"
   ]
  },
  {
   "cell_type": "code",
   "execution_count": 35,
   "metadata": {},
   "outputs": [
    {
     "data": {
      "text/plain": [
       "33"
      ]
     },
     "execution_count": 35,
     "metadata": {},
     "output_type": "execute_result"
    }
   ],
   "source": [
    "lessons = []\n",
    "for div in lesson_divs:\n",
    "    if div.find('h4').text != \"Review\":\n",
    "        for li in div.find_all('li'):\n",
    "            lessons.append(li)\n",
    "len(lessons)"
   ]
  },
  {
   "cell_type": "code",
   "execution_count": 40,
   "metadata": {},
   "outputs": [],
   "source": [
    "for c,lesson in enumerate(lessons):\n",
    "    lesson_div = lesson.find('div',attrs={'class':'rc-WeekItemName headline-1-text'.split()})\n",
    "    #lesson_div.find('span').replace_with('')\n",
    "    lecture_link = lesson.find('a')['href']\n",
    "    if \"/lecture/\" in lecture_link:\n",
    "        lecture_name = lesson_div.text\n",
    "    lecture_hrefs[(str(c+1)+\". \"+lecture_name)] = cera_url + lecture_link"
   ]
  },
  {
   "cell_type": "code",
   "execution_count": 41,
   "metadata": {
    "scrolled": true
   },
   "outputs": [
    {
     "data": {
      "text/plain": [
       "{'1. LectureWelcome to Machine Learning!': 'https://www.coursera.org/learn/machine-learning/lecture/zcAuT/welcome-to-machine-learning',\n",
       " '1. Welcome to Machine Learning!': 'https://www.coursera.org/learn/machine-learning/lecture/zcAuT/welcome-to-machine-learning',\n",
       " '10. LectureUnsupervised Learning': 'https://www.coursera.org/learn/machine-learning/supplement/1O0Bk/unsupervised-learning',\n",
       " '10. Unsupervised Learning': 'https://www.coursera.org/learn/machine-learning/supplement/1O0Bk/unsupervised-learning',\n",
       " '11. LectureUnsupervised Learning': 'https://www.coursera.org/learn/machine-learning/supplement/JBzFm/who-are-mentors',\n",
       " '11. Unsupervised Learning': 'https://www.coursera.org/learn/machine-learning/supplement/JBzFm/who-are-mentors',\n",
       " '12. LectureUnsupervised Learning': 'https://www.coursera.org/learn/machine-learning/supplement/dJCBb/get-to-know-your-classmates',\n",
       " '12. Unsupervised Learning': 'https://www.coursera.org/learn/machine-learning/supplement/dJCBb/get-to-know-your-classmates',\n",
       " '13. LectureUnsupervised Learning': 'https://www.coursera.org/learn/machine-learning/supplement/gBboB/frequently-asked-questions',\n",
       " '13. Unsupervised Learning': 'https://www.coursera.org/learn/machine-learning/supplement/gBboB/frequently-asked-questions',\n",
       " '14. LectureModel Representation': 'https://www.coursera.org/learn/machine-learning/lecture/db3jS/model-representation',\n",
       " '14. Model Representation': 'https://www.coursera.org/learn/machine-learning/lecture/db3jS/model-representation',\n",
       " '15. LectureModel Representation': 'https://www.coursera.org/learn/machine-learning/supplement/cRa2m/model-representation',\n",
       " '15. Model Representation': 'https://www.coursera.org/learn/machine-learning/supplement/cRa2m/model-representation',\n",
       " '16. Cost Function': 'https://www.coursera.org/learn/machine-learning/lecture/rkTp3/cost-function',\n",
       " '16. LectureCost Function': 'https://www.coursera.org/learn/machine-learning/lecture/rkTp3/cost-function',\n",
       " '17. Cost Function': 'https://www.coursera.org/learn/machine-learning/supplement/nhzyF/cost-function',\n",
       " '17. LectureCost Function': 'https://www.coursera.org/learn/machine-learning/supplement/nhzyF/cost-function',\n",
       " '18. Cost Function - Intuition I': 'https://www.coursera.org/learn/machine-learning/lecture/N09c6/cost-function-intuition-i',\n",
       " '18. LectureCost Function - Intuition I': 'https://www.coursera.org/learn/machine-learning/lecture/N09c6/cost-function-intuition-i',\n",
       " '19. Cost Function - Intuition I': 'https://www.coursera.org/learn/machine-learning/supplement/u3qF5/cost-function-intuition-i',\n",
       " '19. LectureCost Function - Intuition I': 'https://www.coursera.org/learn/machine-learning/supplement/u3qF5/cost-function-intuition-i',\n",
       " '2. LectureWelcome to Machine Learning!': 'https://www.coursera.org/learn/machine-learning/supplement/nh65Z/machine-learning-honor-code',\n",
       " '2. Welcome to Machine Learning!': 'https://www.coursera.org/learn/machine-learning/supplement/nh65Z/machine-learning-honor-code',\n",
       " '20. Cost Function - Intuition II': 'https://www.coursera.org/learn/machine-learning/lecture/nwpe2/cost-function-intuition-ii',\n",
       " '20. LectureCost Function - Intuition II': 'https://www.coursera.org/learn/machine-learning/lecture/nwpe2/cost-function-intuition-ii',\n",
       " '21. Cost Function - Intuition II': 'https://www.coursera.org/learn/machine-learning/supplement/9SEeJ/cost-function-intuition-ii',\n",
       " '21. LectureCost Function - Intuition II': 'https://www.coursera.org/learn/machine-learning/supplement/9SEeJ/cost-function-intuition-ii',\n",
       " '22. Gradient Descent': 'https://www.coursera.org/learn/machine-learning/lecture/8SpIM/gradient-descent',\n",
       " '22. LectureGradient Descent': 'https://www.coursera.org/learn/machine-learning/lecture/8SpIM/gradient-descent',\n",
       " '23. Gradient Descent': 'https://www.coursera.org/learn/machine-learning/supplement/2GnUg/gradient-descent',\n",
       " '23. LectureGradient Descent': 'https://www.coursera.org/learn/machine-learning/supplement/2GnUg/gradient-descent',\n",
       " '24. Gradient Descent Intuition': 'https://www.coursera.org/learn/machine-learning/lecture/GFFPB/gradient-descent-intuition',\n",
       " '24. LectureGradient Descent Intuition': 'https://www.coursera.org/learn/machine-learning/lecture/GFFPB/gradient-descent-intuition',\n",
       " '25. Gradient Descent Intuition': 'https://www.coursera.org/learn/machine-learning/supplement/QKEdR/gradient-descent-intuition',\n",
       " '25. LectureGradient Descent Intuition': 'https://www.coursera.org/learn/machine-learning/supplement/QKEdR/gradient-descent-intuition',\n",
       " '26. Gradient Descent For Linear Regression': 'https://www.coursera.org/learn/machine-learning/lecture/kCvQc/gradient-descent-for-linear-regression',\n",
       " '26. LectureGradient Descent For Linear Regression': 'https://www.coursera.org/learn/machine-learning/lecture/kCvQc/gradient-descent-for-linear-regression',\n",
       " '27. Gradient Descent For Linear Regression': 'https://www.coursera.org/learn/machine-learning/supplement/U90DX/gradient-descent-for-linear-regression',\n",
       " '27. LectureGradient Descent For Linear Regression': 'https://www.coursera.org/learn/machine-learning/supplement/U90DX/gradient-descent-for-linear-regression',\n",
       " '28. LectureMatrices and Vectors': 'https://www.coursera.org/learn/machine-learning/lecture/38jIT/matrices-and-vectors',\n",
       " '28. Matrices and Vectors': 'https://www.coursera.org/learn/machine-learning/lecture/38jIT/matrices-and-vectors',\n",
       " '29. Addition and Scalar Multiplication': 'https://www.coursera.org/learn/machine-learning/lecture/R4hiJ/addition-and-scalar-multiplication',\n",
       " '29. LectureAddition and Scalar Multiplication': 'https://www.coursera.org/learn/machine-learning/lecture/R4hiJ/addition-and-scalar-multiplication',\n",
       " '3. LectureWelcome': 'https://www.coursera.org/learn/machine-learning/lecture/RKFpn/welcome',\n",
       " '3. Welcome': 'https://www.coursera.org/learn/machine-learning/lecture/RKFpn/welcome',\n",
       " '30. LectureMatrix Vector Multiplication': 'https://www.coursera.org/learn/machine-learning/lecture/aQDta/matrix-vector-multiplication',\n",
       " '30. Matrix Vector Multiplication': 'https://www.coursera.org/learn/machine-learning/lecture/aQDta/matrix-vector-multiplication',\n",
       " '31. LectureMatrix Matrix Multiplication': 'https://www.coursera.org/learn/machine-learning/lecture/dpF1j/matrix-matrix-multiplication',\n",
       " '31. Matrix Matrix Multiplication': 'https://www.coursera.org/learn/machine-learning/lecture/dpF1j/matrix-matrix-multiplication',\n",
       " '32. LectureMatrix Multiplication Properties': 'https://www.coursera.org/learn/machine-learning/lecture/W1LNU/matrix-multiplication-properties',\n",
       " '32. Matrix Multiplication Properties': 'https://www.coursera.org/learn/machine-learning/lecture/W1LNU/matrix-multiplication-properties',\n",
       " '33. Inverse and Transpose': 'https://www.coursera.org/learn/machine-learning/lecture/FuSWY/inverse-and-transpose',\n",
       " '33. LectureInverse and Transpose': 'https://www.coursera.org/learn/machine-learning/lecture/FuSWY/inverse-and-transpose',\n",
       " '4. LectureWhat is Machine Learning?': 'https://www.coursera.org/learn/machine-learning/lecture/Ujm7v/what-is-machine-learning',\n",
       " '4. What is Machine Learning?': 'https://www.coursera.org/learn/machine-learning/lecture/Ujm7v/what-is-machine-learning',\n",
       " '5. LectureWhat is Machine Learning?': 'https://www.coursera.org/learn/machine-learning/supplement/aAgxl/what-is-machine-learning',\n",
       " '5. What is Machine Learning?': 'https://www.coursera.org/learn/machine-learning/supplement/aAgxl/what-is-machine-learning',\n",
       " '6. LectureWhat is Machine Learning?': 'https://www.coursera.org/learn/machine-learning/supplement/66jBd/how-to-use-discussion-forums',\n",
       " '6. What is Machine Learning?': 'https://www.coursera.org/learn/machine-learning/supplement/66jBd/how-to-use-discussion-forums',\n",
       " '7. LectureSupervised Learning': 'https://www.coursera.org/learn/machine-learning/lecture/1VkCb/supervised-learning',\n",
       " '7. Supervised Learning': 'https://www.coursera.org/learn/machine-learning/lecture/1VkCb/supervised-learning',\n",
       " '8. LectureSupervised Learning': 'https://www.coursera.org/learn/machine-learning/supplement/NKVJ0/supervised-learning',\n",
       " '8. Supervised Learning': 'https://www.coursera.org/learn/machine-learning/supplement/NKVJ0/supervised-learning',\n",
       " '9. LectureUnsupervised Learning': 'https://www.coursera.org/learn/machine-learning/lecture/olRZo/unsupervised-learning',\n",
       " '9. Unsupervised Learning': 'https://www.coursera.org/learn/machine-learning/lecture/olRZo/unsupervised-learning'}"
      ]
     },
     "execution_count": 41,
     "metadata": {},
     "output_type": "execute_result"
    }
   ],
   "source": [
    "lecture_hrefs"
   ]
  },
  {
   "cell_type": "code",
   "execution_count": 43,
   "metadata": {},
   "outputs": [],
   "source": [
    "driver.get(lecture_hrefs[list(lecture_hrefs.keys())[0]])"
   ]
  },
  {
   "cell_type": "code",
   "execution_count": 44,
   "metadata": {
    "collapsed": true
   },
   "outputs": [],
   "source": [
    "soup = BeautifulSoup(driver.page_source,'html.parser')"
   ]
  },
  {
   "cell_type": "code",
   "execution_count": 48,
   "metadata": {},
   "outputs": [],
   "source": [
    "vid_link = soup.find('video').find('source')['src']"
   ]
  },
  {
   "cell_type": "code",
   "execution_count": 49,
   "metadata": {},
   "outputs": [
    {
     "data": {
      "text/plain": [
       "'https://d3c33hcgiwev3.cloudfront.net/qHTMkA4fEeW2rSIAC2yC6g.processed/full/540p/index.mp4?Expires=1536105600&Signature=MKVs68NBUlu5ODk1GOaf9ZbWTLXItUV27xOBwEGz~ZMkFA6tsoN8rMbqoyraFzxSftZ5Pi2KglrwCtrXMEJzTJsRJHkOT9PPPlbqw95woI~fe2hAZCfLKhbHSfUYpF61hYtNSD6JM8L596DkvaoJ8gLHkUW0VcdQ6Nkz53kbuBM_&Key-Pair-Id=APKAJLTNE6QMUY6HBC5A'"
      ]
     },
     "execution_count": 49,
     "metadata": {},
     "output_type": "execute_result"
    }
   ],
   "source": [
    "vid_link"
   ]
  },
  {
   "cell_type": "code",
   "execution_count": 56,
   "metadata": {
    "collapsed": true
   },
   "outputs": [],
   "source": [
    "driver.get(vid_link)"
   ]
  },
  {
   "cell_type": "code",
   "execution_count": 62,
   "metadata": {
    "collapsed": true
   },
   "outputs": [],
   "source": [
    "_params = {'Expires':'1536105600',\n",
    "          'Signature':'MKVs68NBUlu5ODk1GOaf9ZbWTLXItUV27xOBwEGz~ZMkFA6tsoN8rMbqoyraFzxSftZ5Pi2KglrwCtrXMEJzTJsRJHkOT9PPPlbqw95woI~fe2hAZCfLKhbHSfUYpF61hYtNSD6JM8L596DkvaoJ8gLHkUW0VcdQ6Nkz53kbuBM_',\n",
    "          'Key-Pair-Id':'APKAJLTNE6QMUY6HBC5A'}"
   ]
  },
  {
   "cell_type": "code",
   "execution_count": 68,
   "metadata": {},
   "outputs": [
    {
     "name": "stdout",
     "output_type": "stream",
     "text": [
      "https://d3c33hcgiwev3.cloudfront.net/qHTMkA4fEeW2rSIAC2yC6g.processed/full/540p/index.mp4?Expires=1536105600&Signature=MKVs68NBUlu5ODk1GOaf9ZbWTLXItUV27xOBwEGz~ZMkFA6tsoN8rMbqoyraFzxSftZ5Pi2KglrwCtrXMEJzTJsRJHkOT9PPPlbqw95woI~fe2hAZCfLKhbHSfUYpF61hYtNSD6JM8L596DkvaoJ8gLHkUW0VcdQ6Nkz53kbuBM_&Key-Pair-Id=APKAJLTNE6QMUY6HBC5A\n"
     ]
    }
   ],
   "source": [
    "vid = requests.get(\"https://d3c33hcgiwev3.cloudfront.net/qHTMkA4fEeW2rSIAC2yC6g.processed/full/540p/index.mp4\",params=_params)\n",
    "print(vid.url)"
   ]
  },
  {
   "cell_type": "code",
   "execution_count": null,
   "metadata": {
    "collapsed": true
   },
   "outputs": [],
   "source": [
    "vid.contenttype"
   ]
  },
  {
   "cell_type": "code",
   "execution_count": null,
   "metadata": {
    "collapsed": true
   },
   "outputs": [],
   "source": []
  }
 ],
 "metadata": {
  "kernelspec": {
   "display_name": "Python 3",
   "language": "python",
   "name": "python3"
  },
  "language_info": {
   "codemirror_mode": {
    "name": "ipython",
    "version": 3
   },
   "file_extension": ".py",
   "mimetype": "text/x-python",
   "name": "python",
   "nbconvert_exporter": "python",
   "pygments_lexer": "ipython3",
   "version": "3.6.3"
  }
 },
 "nbformat": 4,
 "nbformat_minor": 2
}

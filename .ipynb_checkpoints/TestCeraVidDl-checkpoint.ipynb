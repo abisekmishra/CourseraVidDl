{
 "cells": [
  {
   "cell_type": "code",
   "execution_count": 1,
   "metadata": {},
   "outputs": [],
   "source": [
    "from selenium import webdriver\n",
    "from bs4 import BeautifulSoup\n",
    "import os\n",
    "import requests\n",
    "import re"
   ]
  },
  {
   "cell_type": "code",
   "execution_count": 2,
   "metadata": {},
   "outputs": [],
   "source": [
    "cera_url = \"https://www.coursera.org\"\n",
    "course_hrefs = {}\n",
    "lecture_hrefs = {}\n",
    "week_hrefs = {}\n",
    "weeks = 0"
   ]
  },
  {
   "cell_type": "code",
   "execution_count": 3,
   "metadata": {},
   "outputs": [],
   "source": [
    "#Open web browser\n",
    "driver = webdriver.Chrome(\"C:\\\\Users\\\\Administrator\\\\Downloads\\\\chromedriver_win32\\\\chromedriver.exe\")\n",
    "driver.maximize_window()\n",
    "driver.implicitly_wait(5)\n",
    "driver.get(cera_url)"
   ]
  },
  {
   "cell_type": "code",
   "execution_count": 4,
   "metadata": {},
   "outputs": [],
   "source": [
    "#LOG IN\n",
    "try:\n",
    "    driver.find_element_by_link_text(\"LOG IN\").click()\n",
    "except:\n",
    "    driver.find_element_by_link_text(\"Log In\").click()"
   ]
  },
  {
   "cell_type": "code",
   "execution_count": 5,
   "metadata": {},
   "outputs": [],
   "source": [
    "#Find the input fields and the submit button\n",
    "uname = driver.find_element_by_xpath(\"//input[@name='email']\")\n",
    "passwd = driver.find_element_by_xpath(\"//input[@name='password']\")\n",
    "submit = driver.find_element_by_xpath(\"//form//button\")"
   ]
  },
  {
   "cell_type": "code",
   "execution_count": 6,
   "metadata": {},
   "outputs": [],
   "source": [
    "#form = driver.find_element_by_xpath(\"//form[@name='login']\")\n",
    "#form.get_attribute('action')"
   ]
  },
  {
   "cell_type": "code",
   "execution_count": 7,
   "metadata": {},
   "outputs": [],
   "source": [
    "#Send the keys to the input fields\n",
    "uname.send_keys(\"avisektalks@gmail.com\")\n",
    "passwd.send_keys(\"Avisek@4326\")"
   ]
  },
  {
   "cell_type": "code",
   "execution_count": 8,
   "metadata": {},
   "outputs": [],
   "source": [
    "submit.click()"
   ]
  },
  {
   "cell_type": "code",
   "execution_count": 9,
   "metadata": {},
   "outputs": [
    {
     "data": {
      "text/plain": [
       "<selenium.webdriver.remote.webelement.WebElement (session=\"dccb3d01e0c1ace964e65f5809f7cd7a\", element=\"0.4922477355120676-1\")>"
      ]
     },
     "execution_count": 9,
     "metadata": {},
     "output_type": "execute_result"
    }
   ],
   "source": [
    "driver.find_element_by_xpath(\"//button[@class='nostyle dropdown']\")"
   ]
  },
  {
   "cell_type": "code",
   "execution_count": 10,
   "metadata": {},
   "outputs": [],
   "source": [
    "driver.find_element_by_xpath(\"//button[@class='nostyle dropdown']\").click()\n",
    "old_src = driver.page_source\n",
    "while(driver.page_source == old_src):pass"
   ]
  },
  {
   "cell_type": "code",
   "execution_count": 11,
   "metadata": {},
   "outputs": [],
   "source": [
    "driver.execute_script(\"window.scrollTo(0,0)\")"
   ]
  },
  {
   "cell_type": "code",
   "execution_count": 12,
   "metadata": {},
   "outputs": [],
   "source": [
    "#while driver.execute_script('return document.readyState') != 'complete':pass\n",
    "soup_lastActive = BeautifulSoup(driver.page_source,'html.parser')"
   ]
  },
  {
   "cell_type": "code",
   "execution_count": 13,
   "metadata": {},
   "outputs": [],
   "source": [
    "section_list = soup_lastActive.find_all('section',attrs={\"class\":\"rc-CourseCard with-padding\"})\n",
    "modified_section_list = soup_lastActive.find_all('section',attrs={\"class\":\"rc-CourseCard with-padding card-rich-interaction\"})\n",
    "section_list = list(set(section_list+modified_section_list))"
   ]
  },
  {
   "cell_type": "code",
   "execution_count": 14,
   "metadata": {},
   "outputs": [],
   "source": [
    "#len(soup_lastActive.find_all('section',attrs={\"class\":\"rc-CourseCard with-padding\"}))"
   ]
  },
  {
   "cell_type": "code",
   "execution_count": 15,
   "metadata": {},
   "outputs": [],
   "source": [
    "course_hrefs = {}\n",
    "for section in section_list:\n",
    "    #print(section.find('a',string=\"Go to Course\") != None)\n",
    "    if section.find('a',string=\"Go to Course\") !=None: \n",
    "        name = section.find('h4',attrs={\"class\":\"headline-1-text\"}).text\n",
    "        link = section.find('a',href=True)['href']\n",
    "        course_hrefs[name] = cera_url + link"
   ]
  },
  {
   "cell_type": "code",
   "execution_count": 16,
   "metadata": {},
   "outputs": [],
   "source": [
    "# course_hrefs = {}\n",
    "# for section in section_list:\n",
    "#         enroll_text = section.find('a',text='Go to Course')\n",
    "#         check_enrollment = enroll_text if enroll_text!=None else section.find('span',{'class':'headline-1-text enroll-text'})\n",
    "#         if check_enrollment != None:\n",
    "#             name = section.find('h4', attrs={\"class\": \"headline-1-text\"}).text\n",
    "#             href_link = section.find(\"a\", href=True)['href']\n",
    "#             course_hrefs[name] = href_link"
   ]
  },
  {
   "cell_type": "code",
   "execution_count": 17,
   "metadata": {},
   "outputs": [
    {
     "data": {
      "text/plain": [
       "{'Introduction to Data Science in Python': 'https://www.coursera.org/learn/python-data-analysis/home/welcome',\n",
       " 'Neural Networks for Machine Learning': 'https://www.coursera.org/learn/neural-networks/home/welcome',\n",
       " 'Machine Learning': 'https://www.coursera.org/learn/machine-learning/home/welcome',\n",
       " 'Neural Networks and Deep Learning': 'https://www.coursera.org/learn/neural-networks-deep-learning/home/welcome'}"
      ]
     },
     "execution_count": 17,
     "metadata": {},
     "output_type": "execute_result"
    }
   ],
   "source": [
    "course_hrefs"
   ]
  },
  {
   "cell_type": "code",
   "execution_count": 33,
   "metadata": {},
   "outputs": [],
   "source": [
    "# course_url = cera_url+course_hrefs['Machine Learning']\n",
    "# course_url"
   ]
  },
  {
   "cell_type": "code",
   "execution_count": 18,
   "metadata": {},
   "outputs": [
    {
     "name": "stdout",
     "output_type": "stream",
     "text": [
      "complete\n"
     ]
    }
   ],
   "source": [
    "driver.get(course_hrefs['Machine Learning'])\n",
    "print(driver.execute_script('return document.readyState'))"
   ]
  },
  {
   "cell_type": "code",
   "execution_count": 19,
   "metadata": {},
   "outputs": [],
   "source": [
    "soup = BeautifulSoup(driver.page_source,'html.parser')\n",
    "div_weeks = soup.find('div',attrs={'class':'rc-NavigationDrawer'})\n",
    "weeks = div_weeks.find_all('a',attrs={'class' : \"rc-NavigationDrawerLink headline-1-text horizontal-box \\\n",
    "                                                   rc-WeekNavigationItem\".split()})"
   ]
  },
  {
   "cell_type": "code",
   "execution_count": 20,
   "metadata": {},
   "outputs": [
    {
     "data": {
      "text/plain": [
       "11"
      ]
     },
     "execution_count": 20,
     "metadata": {},
     "output_type": "execute_result"
    }
   ],
   "source": [
    "len(weeks)"
   ]
  },
  {
   "cell_type": "code",
   "execution_count": 21,
   "metadata": {},
   "outputs": [],
   "source": [
    "#curr_url = driver.current_url\n",
    "driver.find_element_by_link_text(\"Week \"+str(8)).click()\n",
    "\n",
    "#print(driver.find_element_by_tag_name(\"main\"))\n",
    "# ispresent = 0\n",
    "# while ispresent == 0: \n",
    "#     try:\n",
    "#         driver.find_element_by_link_text('Resume')\n",
    "#         ispresent = 1\n",
    "#     except:continue"
   ]
  },
  {
   "cell_type": "code",
   "execution_count": 25,
   "metadata": {},
   "outputs": [],
   "source": [
    "soup  = BeautifulSoup(driver.page_source,'html.parser')"
   ]
  },
  {
   "cell_type": "code",
   "execution_count": 26,
   "metadata": {},
   "outputs": [],
   "source": [
    "lesson_divs = soup.find_all('div',{\"class\":\"rc-NamedItemList\"})"
   ]
  },
  {
   "cell_type": "code",
   "execution_count": 27,
   "metadata": {},
   "outputs": [
    {
     "data": {
      "text/plain": [
       "6"
      ]
     },
     "execution_count": 27,
     "metadata": {},
     "output_type": "execute_result"
    }
   ],
   "source": [
    "len(lesson_divs)"
   ]
  },
  {
   "cell_type": "code",
   "execution_count": 28,
   "metadata": {},
   "outputs": [],
   "source": [
    "lessons = [li for div in lesson_divs if div.find('h4').text != 'Review' for li in div.find_all('li')]"
   ]
  },
  {
   "cell_type": "code",
   "execution_count": 29,
   "metadata": {},
   "outputs": [],
   "source": [
    "# lessons = []\n",
    "# for div in lesson_divs:\n",
    "#     if div.find('h4').text != \"Review\":\n",
    "#         for li in div.find_all('li'):\n",
    "#             lessons.append(li)\n",
    "# len(lessons)"
   ]
  },
  {
   "cell_type": "code",
   "execution_count": 30,
   "metadata": {},
   "outputs": [],
   "source": [
    "lecture_hrefs = {}\n",
    "c=0\n",
    "for lesson in lessons:\n",
    "    lesson_div = lesson.find('div',attrs={'class':'rc-WeekItemName headline-1-text'.split()})\n",
    "    #lesson_div.find('span').replace_with('')\n",
    "    lecture_link = lesson.find('a')['href']\n",
    "    if '/lecture/' in lecture_link:\n",
    "        c+=1\n",
    "        lecture_name = lesson_div.text\n",
    "        lecture_hrefs[(str(c)+\". \"+lecture_name)] = cera_url + lecture_link"
   ]
  },
  {
   "cell_type": "code",
   "execution_count": 31,
   "metadata": {
    "scrolled": true
   },
   "outputs": [
    {
     "data": {
      "text/plain": [
       "{'1. LectureUnsupervised Learning: Introduction': 'https://www.coursera.org/learn/machine-learning/lecture/czmip/unsupervised-learning-introduction',\n",
       " '2. LectureK-Means Algorithm': 'https://www.coursera.org/learn/machine-learning/lecture/93VPG/k-means-algorithm',\n",
       " '3. LectureOptimization Objective': 'https://www.coursera.org/learn/machine-learning/lecture/G6QWt/optimization-objective',\n",
       " '4. LectureRandom Initialization': 'https://www.coursera.org/learn/machine-learning/lecture/drcBh/random-initialization',\n",
       " '5. LectureChoosing the Number of Clusters': 'https://www.coursera.org/learn/machine-learning/lecture/Ks0E9/choosing-the-number-of-clusters',\n",
       " '6. LectureMotivation I: Data Compression': 'https://www.coursera.org/learn/machine-learning/lecture/0EJ6A/motivation-i-data-compression',\n",
       " '7. LectureMotivation II: Visualization': 'https://www.coursera.org/learn/machine-learning/lecture/t6pYD/motivation-ii-visualization',\n",
       " '8. LecturePrincipal Component Analysis Problem Formulation': 'https://www.coursera.org/learn/machine-learning/lecture/GBFTt/principal-component-analysis-problem-formulation',\n",
       " '9. LecturePrincipal Component Analysis Algorithm': 'https://www.coursera.org/learn/machine-learning/lecture/ZYIPa/principal-component-analysis-algorithm',\n",
       " '10. LectureReconstruction from Compressed Representation': 'https://www.coursera.org/learn/machine-learning/lecture/X8JoQ/reconstruction-from-compressed-representation',\n",
       " '11. LectureChoosing the Number of Principal Components': 'https://www.coursera.org/learn/machine-learning/lecture/S1bq1/choosing-the-number-of-principal-components',\n",
       " '12. LectureAdvice for Applying PCA': 'https://www.coursera.org/learn/machine-learning/lecture/RBqQl/advice-for-applying-pca'}"
      ]
     },
     "execution_count": 31,
     "metadata": {},
     "output_type": "execute_result"
    }
   ],
   "source": [
    "lecture_hrefs"
   ]
  },
  {
   "cell_type": "code",
   "execution_count": 68,
   "metadata": {},
   "outputs": [],
   "source": [
    "driver.get(lecture_hrefs[list(lecture_hrefs.keys())[0]])"
   ]
  },
  {
   "cell_type": "code",
   "execution_count": null,
   "metadata": {
    "collapsed": true
   },
   "outputs": [],
   "source": [
    "while driver.find_element_by_tag_name('video')!=None:pass\n",
    "soup = BeautifulSoup(driver.page_source,'html.parser')"
   ]
  },
  {
   "cell_type": "code",
   "execution_count": 64,
   "metadata": {},
   "outputs": [
    {
     "ename": "AttributeError",
     "evalue": "'NoneType' object has no attribute 'find'",
     "output_type": "error",
     "traceback": [
      "\u001b[0;31m---------------------------------------------------------------------------\u001b[0m",
      "\u001b[0;31mAttributeError\u001b[0m                            Traceback (most recent call last)",
      "\u001b[0;32m<ipython-input-64-c6f60b3b430d>\u001b[0m in \u001b[0;36m<module>\u001b[0;34m()\u001b[0m\n\u001b[0;32m----> 1\u001b[0;31m \u001b[0mvid_link\u001b[0m \u001b[0;34m=\u001b[0m \u001b[0msoup\u001b[0m\u001b[0;34m.\u001b[0m\u001b[0mfind\u001b[0m\u001b[0;34m(\u001b[0m\u001b[0;34m'video'\u001b[0m\u001b[0;34m)\u001b[0m\u001b[0;34m.\u001b[0m\u001b[0mfind\u001b[0m\u001b[0;34m(\u001b[0m\u001b[0;34m'source'\u001b[0m\u001b[0;34m)\u001b[0m\u001b[0;34m[\u001b[0m\u001b[0;34m'src'\u001b[0m\u001b[0;34m]\u001b[0m\u001b[0;34m\u001b[0m\u001b[0m\n\u001b[0m",
      "\u001b[0;31mAttributeError\u001b[0m: 'NoneType' object has no attribute 'find'"
     ]
    }
   ],
   "source": [
    "vid_link = soup.find('video').find('source')['src']"
   ]
  },
  {
   "cell_type": "code",
   "execution_count": 61,
   "metadata": {},
   "outputs": [
    {
     "data": {
      "text/plain": [
       "'https://d3c33hcgiwev3.cloudfront.net/19.1-ApplicationExamplePhotoOCR-ProblemDescriptionAndPipeline.465d8770b22b11e4bb7e93e7536260ed/full/540p/index.mp4?Expires=1536192000&Signature=YhohdKsyr9NiPWJz4Il7rTGDtf5OLGR3nOQ5t3ihqv30ygI09vPNqcs8OHI83Ie3scxG0EdDBIfW1m1~TYg1bkRqXB3oqZ1SY7A5uEG33KFgalLKv4ZExJ~Lv-VEyLMPkwat1lvyA7Rxcpxz7~Vs3Rv2hbeLtCMS7SzwSsQLBiI_&Key-Pair-Id=APKAJLTNE6QMUY6HBC5A'"
      ]
     },
     "execution_count": 61,
     "metadata": {},
     "output_type": "execute_result"
    }
   ],
   "source": [
    "vid_link"
   ]
  },
  {
   "cell_type": "code",
   "execution_count": 56,
   "metadata": {
    "collapsed": true
   },
   "outputs": [],
   "source": [
    "#driver.get(vid_link)"
   ]
  },
  {
   "cell_type": "code",
   "execution_count": 59,
   "metadata": {
    "collapsed": true
   },
   "outputs": [],
   "source": [
    "_params = {'Expires':'1536105600',\n",
    "          'Signature':'MKVs68NBUlu5ODk1GOaf9ZbWTLXItUV27xOBwEGz~ZMkFA6tsoN8rMbqoyraFzxSftZ5Pi2KglrwCtrXMEJzTJsRJHkOT9PPPlbqw95woI~fe2hAZCfLKhbHSfUYpF61hYtNSD6JM8L596DkvaoJ8gLHkUW0VcdQ6Nkz53kbuBM_',\n",
    "          'Key-Pair-Id':'APKAJLTNE6QMUY6HBC5A'}"
   ]
  },
  {
   "cell_type": "code",
   "execution_count": 64,
   "metadata": {},
   "outputs": [
    {
     "name": "stdout",
     "output_type": "stream",
     "text": [
      "https://d3c33hcgiwev3.cloudfront.net/qHTMkA4fEeW2rSIAC2yC6g.processed/full/540p/index.mp4?Expires=1536192000&Signature=NKXmfZA8eoEOEvcBV~m5pNpxAyNgBWHuCLbSLV~7creMI1k~jHJl9VIyRrjPqimC1qdZxd-3LNrfdzgX84xyt-MhZsUK3hLFUfxuO8b2sBCZ2duJTT8c3g5zfz-3AInyRMrkp~Y-IQYrGTsqTRRCid5CQsTXtXz3yo7HTd-wiA8_&Key-Pair-Id=APKAJLTNE6QMUY6HBC5A\n"
     ]
    }
   ],
   "source": [
    "with open('index.mp4','wb') as f: \n",
    "    vid = requests.get(vid_link,stream=True)\n",
    "    print(vid.url)\n",
    "    f.write(vid.content)"
   ]
  },
  {
   "cell_type": "code",
   "execution_count": 61,
   "metadata": {},
   "outputs": [
    {
     "data": {
      "text/plain": [
       "4819806"
      ]
     },
     "execution_count": 61,
     "metadata": {},
     "output_type": "execute_result"
    }
   ],
   "source": [
    "f = open('index.mp4','wb')\n",
    "f.write(vid.content)"
   ]
  },
  {
   "cell_type": "code",
   "execution_count": 62,
   "metadata": {
    "collapsed": true
   },
   "outputs": [],
   "source": [
    "f.close()"
   ]
  },
  {
   "cell_type": "code",
   "execution_count": 65,
   "metadata": {
    "collapsed": true
   },
   "outputs": [],
   "source": [
    "driver.close()"
   ]
  }
 ],
 "metadata": {
  "kernelspec": {
   "display_name": "Python 3",
   "language": "python",
   "name": "python3"
  },
  "language_info": {
   "codemirror_mode": {
    "name": "ipython",
    "version": 3
   },
   "file_extension": ".py",
   "mimetype": "text/x-python",
   "name": "python",
   "nbconvert_exporter": "python",
   "pygments_lexer": "ipython3",
   "version": "3.6.5"
  }
 },
 "nbformat": 4,
 "nbformat_minor": 2
}
